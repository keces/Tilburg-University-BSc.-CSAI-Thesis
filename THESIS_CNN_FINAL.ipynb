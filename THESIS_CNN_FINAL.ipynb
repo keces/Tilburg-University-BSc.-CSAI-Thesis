{
  "cells": [
    {
      "cell_type": "markdown",
      "metadata": {
        "id": "view-in-github",
        "colab_type": "text"
      },
      "source": [
        "<a href=\"https://colab.research.google.com/github/keces/keces/blob/main/THESIS_CNN_FINAL.ipynb\" target=\"_parent\"><img src=\"https://colab.research.google.com/assets/colab-badge.svg\" alt=\"Open In Colab\"/></a>"
      ]
    },
    {
      "cell_type": "code",
      "execution_count": null,
      "metadata": {
        "id": "sCTwspa_JpNc"
      },
      "outputs": [],
      "source": [
        "import tensorflow as tf\n",
        "import numpy as np\n",
        "from tensorflow import keras\n",
        "import os, shutil, pathlib\n",
        "import cv2\n",
        "from tensorflow.keras.preprocessing.image import ImageDataGenerator\n",
        "from tensorflow.keras.preprocessing import image\n",
        "import matplotlib.pyplot as plt\n",
        "from tensorflow.keras import layers\n",
        "from tensorflow.keras import optimizers\n",
        "from keras.layers import BatchNormalization, Conv2D, MaxPool2D, Flatten, Dense, AveragePooling2D"
      ]
    },
    {
      "cell_type": "markdown",
      "metadata": {
        "id": "X2RvbdvNXOnM"
      },
      "source": [
        "**Code from Python book**\n",
        "\n",
        "- seperate to train,test,val randomly\n",
        "- train on val \n",
        "- predict on test set to obtain accuracy, precision etc. \n",
        "\n",
        "- however, in order to do this, need to rename the files like the following: (execute only once)"
      ]
    },
    {
      "cell_type": "code",
      "execution_count": null,
      "metadata": {
        "id": "n5KVyOXJmkpk"
      },
      "outputs": [],
      "source": [
        "\"\"\"\"import os\n",
        "os.getcwd()\n",
        "collection = \"/content/drive/MyDrive/THESIS /UNSEPARATED/BreakHis_original_unseparated/malignant\"\n",
        "for i, filename in enumerate(os.listdir(collection)):\n",
        "    os.rename(\"/content/drive/MyDrive/THESIS /UNSEPARATED/BreakHis_original_unseparated/malignant/\" + filename, \"/content/drive/MyDrive/THESIS /UNSEPARATED/BreakHis_original_unseparated/malignant/\"+ \"malignant_\"+ str(i+1) + \".png\")\"\"\"\""
      ]
    },
    {
      "cell_type": "code",
      "source": [
        "\"\"\"   import os\n",
        "      os.getcwd()\n",
        "      collection = \"/content/drive/MyDrive/THESIS /UNSEPARATED/BreakHis_original_unseparated/benign\"\n",
        "      for i, filename in enumerate(os.listdir(collection)):\n",
        "          os.rename(\"/content/drive/MyDrive/THESIS /UNSEPARATED/BreakHis_original_unseparated/benign/\" + filename, \"/content/drive/MyDrive/THESIS /UNSEPARATED/BreakHis_original_unseparated/benign/\"+ \"benign_\"+ str(i+1) + \".png\")\"\"\""
      ],
      "metadata": {
        "id": "fGYEo8BA1pAJ"
      },
      "execution_count": null,
      "outputs": []
    },
    {
      "cell_type": "code",
      "source": [
        "import os\n",
        "os.getcwd()\n",
        "collection = \"/content/drive/MyDrive/THESIS /UNSEPARATED/BreakHis_original_128/benign128\"\n",
        "for i, filename in enumerate(os.listdir(collection)):\n",
        "    os.rename(\"/content/drive/MyDrive/THESIS /UNSEPARATED/BreakHis_original_128/benign128/\"  + filename, \"/content/drive/MyDrive/THESIS /UNSEPARATED/BreakHis_original_128/benign128/\"+ \"benign_\"+ str(i+1) + \".png\")"
      ],
      "metadata": {
        "id": "L-VWYofN1pvP"
      },
      "execution_count": null,
      "outputs": []
    },
    {
      "cell_type": "code",
      "source": [
        "import os\n",
        "os.getcwd()\n",
        "collection = \"/content/drive/MyDrive/THESIS /UNSEPARATED/BreakHis_original_128/malignant128\"\n",
        "for i, filename in enumerate(os.listdir(collection)):\n",
        "    os.rename(\"/content/drive/MyDrive/THESIS /UNSEPARATED/BreakHis_original_128/malignant128/\" + filename, \"/content/drive/MyDrive/THESIS /UNSEPARATED/BreakHis_original_128/malignant128/\"+ \"malignant_\"+ str(i+1) + \".png\")"
      ],
      "metadata": {
        "id": "pPwH3lGh1qET"
      },
      "execution_count": null,
      "outputs": []
    },
    {
      "cell_type": "code",
      "execution_count": null,
      "metadata": {
        "id": "fkiOZ5m3XWXL"
      },
      "outputs": [],
      "source": [
        "import os, shutil, pathlib\n",
        "original_dir = pathlib.Path(\"/content/drive/MyDrive/THESIS /UNSEPARATED/BreakHis_original_128/malignant128\")\n",
        "new_base_dir = pathlib.Path(\"/content/drive/MyDrive/THESIS /subsampled\")\n",
        "\n",
        "def make_subset(subset_name,category, start_index, end_index):\n",
        "      dir = new_base_dir / subset_name / category\n",
        "      os.makedirs(dir ,exist_ok=True)\n",
        "      fnames = [f\"{category}_{i}.png\" for i in range(start_index, end_index)]\n",
        "      for fname in fnames:\n",
        "                    shutil.copyfile(src=original_dir / fname,\n",
        "                            dst=dir / fname)"
      ]
    },
    {
      "cell_type": "code",
      "source": [
        "make_subset(\"train\", \"malignant\",start_index=1, end_index=511)\n",
        "make_subset(\"validation\",\"malignant\", start_index=511, end_index=951)\n",
        "make_subset(\"test\",\"malignant\", start_index=951, end_index=1391)"
      ],
      "metadata": {
        "id": "JZWYe8v_aC_A"
      },
      "execution_count": null,
      "outputs": []
    },
    {
      "cell_type": "code",
      "source": [
        "import os, shutil, pathlib\n",
        "original_dir = pathlib.Path(\"/content/drive/MyDrive/THESIS /UNSEPARATED/BreakHis_original_128/benign128\")\n",
        "new_base_dir = pathlib.Path(\"/content/drive/MyDrive/THESIS /subsampled\")\n",
        "\n",
        "def make_subset(subset_name,category, start_index, end_index):\n",
        "      dir = new_base_dir / subset_name / category\n",
        "      os.makedirs(dir ,exist_ok=True)\n",
        "      fnames = [f\"{category}_{i}.png\" for i in range(start_index, end_index)]\n",
        "      for fname in fnames:\n",
        "                    shutil.copyfile(src=original_dir / fname,\n",
        "                            dst=dir / fname)"
      ],
      "metadata": {
        "id": "4n4d8v8g4PNQ"
      },
      "execution_count": null,
      "outputs": []
    },
    {
      "cell_type": "code",
      "source": [
        "make_subset(\"train\", \"benign\",start_index=1, end_index=274)\n",
        "make_subset(\"validation\",\"benign\", start_index=274, end_index=449)\n",
        "make_subset(\"test\",\"benign\", start_index=449, end_index=624)"
      ],
      "metadata": {
        "id": "jL5DmkuQ4UwW"
      },
      "execution_count": null,
      "outputs": []
    },
    {
      "cell_type": "markdown",
      "metadata": {
        "id": "LCYfjAPfXb4W"
      },
      "source": [
        "## **Classification task** - Non-SR applied images\n",
        "\n"
      ]
    },
    {
      "cell_type": "code",
      "execution_count": null,
      "metadata": {
        "id": "PmET-sJVJyjF"
      },
      "outputs": [],
      "source": [
        "import os, shutil, pathlib\n",
        "new_base_dir = pathlib.Path(\"/content/drive/MyDrive/THESIS /subsampled\")"
      ]
    },
    {
      "cell_type": "code",
      "execution_count": null,
      "metadata": {
        "id": "Auyfomvdy4X8"
      },
      "outputs": [],
      "source": [
        "model = keras.Sequential()\n",
        "\n",
        "# Convolutional layer and maxpool layer 1\n",
        "model.add(keras.layers.Conv2D(32,(3,3),activation='relu',input_shape=(512,512,3)))\n",
        "model.add(keras.layers.MaxPool2D(2,2))\n",
        "model.add(keras.layers.BatchNormalization())\n",
        "\n",
        "# Convolutional layer and maxpool layer 2\n",
        "model.add(keras.layers.Conv2D(64,(3,3),activation='relu'))\n",
        "model.add(keras.layers.MaxPool2D(2,2))\n",
        "model.add(keras.layers.BatchNormalization())\n",
        "\n",
        "# Convolutional layer and maxpool layer 3\n",
        "model.add(keras.layers.Conv2D(128,(3,3),activation='relu'))\n",
        "model.add(keras.layers.MaxPool2D(2,2))\n",
        "model.add(keras.layers.BatchNormalization())\n",
        "\n",
        "# Convolutional layer and maxpool layer 4\n",
        "model.add(keras.layers.Conv2D(128,(3,3),activation='relu'))\n",
        "model.add(keras.layers.MaxPool2D(2,2))\n",
        "model.add(keras.layers.BatchNormalization())\n",
        "\n",
        "# This layer flattens the resulting image array to 1D array\n",
        "model.add(keras.layers.Flatten())\n",
        "\n",
        "# Hidden layer with 512 neurons and Rectified Linear Unit activation function \n",
        "model.add(keras.layers.Dense(512,activation='relu'))\n",
        "\n",
        "# Output layer with single neuron which gives 0 for malignant or 1 for benign \n",
        "#Here we use sigmoid activation function which makes our model output to lie between 0 and 1\n",
        "model.add(keras.layers.Dense(1,activation='sigmoid'))"
      ]
    },
    {
      "cell_type": "code",
      "execution_count": null,
      "metadata": {
        "colab": {
          "base_uri": "https://localhost:8080/"
        },
        "id": "GmTxkSeyy4hj",
        "outputId": "7674be0f-d3d7-4ab6-f0cf-4894b80f996d"
      },
      "outputs": [
        {
          "output_type": "stream",
          "name": "stdout",
          "text": [
            "Model: \"sequential\"\n",
            "_________________________________________________________________\n",
            " Layer (type)                Output Shape              Param #   \n",
            "=================================================================\n",
            " conv2d (Conv2D)             (None, 510, 510, 32)      896       \n",
            "                                                                 \n",
            " max_pooling2d (MaxPooling2D  (None, 255, 255, 32)     0         \n",
            " )                                                               \n",
            "                                                                 \n",
            " batch_normalization (BatchN  (None, 255, 255, 32)     128       \n",
            " ormalization)                                                   \n",
            "                                                                 \n",
            " conv2d_1 (Conv2D)           (None, 253, 253, 64)      18496     \n",
            "                                                                 \n",
            " max_pooling2d_1 (MaxPooling  (None, 126, 126, 64)     0         \n",
            " 2D)                                                             \n",
            "                                                                 \n",
            " batch_normalization_1 (Batc  (None, 126, 126, 64)     256       \n",
            " hNormalization)                                                 \n",
            "                                                                 \n",
            " conv2d_2 (Conv2D)           (None, 124, 124, 128)     73856     \n",
            "                                                                 \n",
            " max_pooling2d_2 (MaxPooling  (None, 62, 62, 128)      0         \n",
            " 2D)                                                             \n",
            "                                                                 \n",
            " batch_normalization_2 (Batc  (None, 62, 62, 128)      512       \n",
            " hNormalization)                                                 \n",
            "                                                                 \n",
            " conv2d_3 (Conv2D)           (None, 60, 60, 128)       147584    \n",
            "                                                                 \n",
            " max_pooling2d_3 (MaxPooling  (None, 30, 30, 128)      0         \n",
            " 2D)                                                             \n",
            "                                                                 \n",
            " batch_normalization_3 (Batc  (None, 30, 30, 128)      512       \n",
            " hNormalization)                                                 \n",
            "                                                                 \n",
            " flatten (Flatten)           (None, 115200)            0         \n",
            "                                                                 \n",
            " dense (Dense)               (None, 512)               58982912  \n",
            "                                                                 \n",
            " dense_1 (Dense)             (None, 1)                 513       \n",
            "                                                                 \n",
            "=================================================================\n",
            "Total params: 59,225,665\n",
            "Trainable params: 59,224,961\n",
            "Non-trainable params: 704\n",
            "_________________________________________________________________\n"
          ]
        }
      ],
      "source": [
        "model.summary()"
      ]
    },
    {
      "cell_type": "code",
      "execution_count": null,
      "metadata": {
        "id": "c9u0fZ3Fy4om"
      },
      "outputs": [],
      "source": [
        " model.compile(loss=\"binary_crossentropy\",\n",
        "              optimizer=\"rmsprop\",\n",
        "              metrics=[\"accuracy\"])"
      ]
    },
    {
      "cell_type": "code",
      "execution_count": null,
      "metadata": {
        "colab": {
          "base_uri": "https://localhost:8080/"
        },
        "id": "dElUZDHRzmBR",
        "outputId": "bdb541f8-5ba9-4f76-cb9a-021e304623e9"
      },
      "outputs": [
        {
          "output_type": "stream",
          "name": "stdout",
          "text": [
            "Found 783 files belonging to 2 classes.\n",
            "Found 615 files belonging to 2 classes.\n",
            "Found 615 files belonging to 2 classes.\n"
          ]
        }
      ],
      "source": [
        "from tensorflow.keras.preprocessing import image_dataset_from_directory\n",
        "\n",
        "train_dataset = image_dataset_from_directory(\n",
        "    new_base_dir / \"train\",\n",
        "    image_size=(512, 512),\n",
        "    batch_size=32)\n",
        "validation_dataset = image_dataset_from_directory(\n",
        "    new_base_dir / \"validation\",\n",
        "    image_size=(512, 512),\n",
        "    batch_size=32)\n",
        "test_dataset = image_dataset_from_directory(\n",
        "    new_base_dir / \"test\",\n",
        "    image_size=(512, 512),\n",
        "    batch_size=32)"
      ]
    },
    {
      "cell_type": "code",
      "execution_count": null,
      "metadata": {
        "colab": {
          "base_uri": "https://localhost:8080/"
        },
        "id": "CMFMWq30zpCH",
        "outputId": "d869f8e4-2923-44e5-e530-786b07ac3648"
      },
      "outputs": [
        {
          "output_type": "stream",
          "name": "stdout",
          "text": [
            "Epoch 1/30\n",
            "25/25 [==============================] - 138s 4s/step - loss: 45.9551 - accuracy: 0.7676 - val_loss: 123.5100 - val_accuracy: 0.2846\n",
            "Epoch 2/30\n",
            "25/25 [==============================] - 19s 655ms/step - loss: 6.3323 - accuracy: 0.8519 - val_loss: 285.7644 - val_accuracy: 0.2862\n",
            "Epoch 3/30\n",
            "25/25 [==============================] - 19s 662ms/step - loss: 6.5204 - accuracy: 0.8519 - val_loss: 155.3877 - val_accuracy: 0.7154\n",
            "Epoch 4/30\n",
            "25/25 [==============================] - 19s 658ms/step - loss: 8.0917 - accuracy: 0.8519 - val_loss: 220.7833 - val_accuracy: 0.2846\n",
            "Epoch 5/30\n",
            "25/25 [==============================] - 19s 660ms/step - loss: 6.5435 - accuracy: 0.7599 - val_loss: 104.7704 - val_accuracy: 0.2959\n",
            "Epoch 6/30\n",
            "25/25 [==============================] - 19s 663ms/step - loss: 1.4906 - accuracy: 0.8557 - val_loss: 668.9960 - val_accuracy: 0.3902\n",
            "Epoch 7/30\n",
            "25/25 [==============================] - 19s 661ms/step - loss: 2.1375 - accuracy: 0.8710 - val_loss: 89.6542 - val_accuracy: 0.4081\n",
            "Epoch 8/30\n",
            "25/25 [==============================] - 19s 662ms/step - loss: 7.3352 - accuracy: 0.8633 - val_loss: 27.9859 - val_accuracy: 0.4293\n",
            "Epoch 9/30\n",
            "25/25 [==============================] - 19s 665ms/step - loss: 0.7051 - accuracy: 0.9055 - val_loss: 23.9265 - val_accuracy: 0.6780\n",
            "Epoch 10/30\n",
            "25/25 [==============================] - 19s 661ms/step - loss: 2.2539 - accuracy: 0.9055 - val_loss: 0.7685 - val_accuracy: 0.8016\n",
            "Epoch 11/30\n",
            "25/25 [==============================] - 19s 662ms/step - loss: 4.6277 - accuracy: 0.9144 - val_loss: 19.4790 - val_accuracy: 0.4488\n",
            "Epoch 12/30\n",
            "25/25 [==============================] - 18s 652ms/step - loss: 1.9742 - accuracy: 0.9055 - val_loss: 497.0382 - val_accuracy: 0.7236\n",
            "Epoch 13/30\n",
            "25/25 [==============================] - 19s 665ms/step - loss: 0.3044 - accuracy: 0.9349 - val_loss: 3.0504 - val_accuracy: 0.7496\n",
            "Epoch 14/30\n",
            "25/25 [==============================] - 19s 663ms/step - loss: 0.1349 - accuracy: 0.9515 - val_loss: 191.2875 - val_accuracy: 0.7301\n",
            "Epoch 15/30\n",
            "25/25 [==============================] - 19s 658ms/step - loss: 0.1461 - accuracy: 0.9438 - val_loss: 414.6683 - val_accuracy: 0.7252\n",
            "Epoch 16/30\n",
            "25/25 [==============================] - 19s 658ms/step - loss: 0.2246 - accuracy: 0.9540 - val_loss: 35.4967 - val_accuracy: 0.8764\n",
            "Epoch 17/30\n",
            "25/25 [==============================] - 19s 666ms/step - loss: 1.4386 - accuracy: 0.9425 - val_loss: 145.8150 - val_accuracy: 0.7675\n",
            "Epoch 18/30\n",
            "25/25 [==============================] - 19s 663ms/step - loss: 1.1062 - accuracy: 0.9464 - val_loss: 111.2341 - val_accuracy: 0.6504\n",
            "Epoch 19/30\n",
            "25/25 [==============================] - 19s 662ms/step - loss: 1.3267 - accuracy: 0.9591 - val_loss: 82.4386 - val_accuracy: 0.8764\n",
            "Epoch 20/30\n",
            "25/25 [==============================] - 19s 665ms/step - loss: 0.1141 - accuracy: 0.9630 - val_loss: 13.7970 - val_accuracy: 0.8130\n",
            "Epoch 21/30\n",
            "25/25 [==============================] - 18s 650ms/step - loss: 0.0839 - accuracy: 0.9796 - val_loss: 130.8757 - val_accuracy: 0.7366\n",
            "Epoch 22/30\n",
            "25/25 [==============================] - 19s 659ms/step - loss: 0.9843 - accuracy: 0.9642 - val_loss: 22.6597 - val_accuracy: 0.5675\n",
            "Epoch 23/30\n",
            "25/25 [==============================] - 19s 663ms/step - loss: 0.2001 - accuracy: 0.9681 - val_loss: 0.8438 - val_accuracy: 0.8325\n",
            "Epoch 24/30\n",
            "25/25 [==============================] - 19s 660ms/step - loss: 0.0757 - accuracy: 0.9783 - val_loss: 6.8254 - val_accuracy: 0.9154\n",
            "Epoch 25/30\n",
            "25/25 [==============================] - 19s 664ms/step - loss: 1.1463 - accuracy: 0.9579 - val_loss: 94.9878 - val_accuracy: 0.8634\n",
            "Epoch 26/30\n",
            "25/25 [==============================] - 19s 657ms/step - loss: 0.0867 - accuracy: 0.9860 - val_loss: 0.9855 - val_accuracy: 0.9057\n",
            "Epoch 27/30\n",
            "25/25 [==============================] - 19s 691ms/step - loss: 0.0894 - accuracy: 0.9693 - val_loss: 6.6967 - val_accuracy: 0.8797\n",
            "Epoch 28/30\n",
            "25/25 [==============================] - 19s 666ms/step - loss: 0.3292 - accuracy: 0.9770 - val_loss: 4.7942 - val_accuracy: 0.7821\n",
            "Epoch 29/30\n",
            "25/25 [==============================] - 19s 656ms/step - loss: 0.0664 - accuracy: 0.9872 - val_loss: 2.0928 - val_accuracy: 0.8715\n",
            "Epoch 30/30\n",
            "25/25 [==============================] - 19s 665ms/step - loss: 0.2175 - accuracy: 0.9834 - val_loss: 58.1890 - val_accuracy: 0.8472\n"
          ]
        }
      ],
      "source": [
        "history = model.fit(\n",
        "    train_dataset,\n",
        "    epochs=30,\n",
        "    validation_data=validation_dataset)"
      ]
    },
    {
      "cell_type": "code",
      "source": [
        "predict=model.predict(test_dataset)"
      ],
      "metadata": {
        "id": "gH5FpQhbJYmD"
      },
      "execution_count": null,
      "outputs": []
    },
    {
      "cell_type": "code",
      "source": [
        "results = model.evaluate(test_dataset)"
      ],
      "metadata": {
        "colab": {
          "base_uri": "https://localhost:8080/"
        },
        "id": "yMK3ly8EKNJs",
        "outputId": "c8eb3ab0-df97-4023-ded0-80d62fdbdcc5"
      },
      "execution_count": null,
      "outputs": [
        {
          "output_type": "stream",
          "name": "stdout",
          "text": [
            "20/20 [==============================] - 7s 220ms/step - loss: 140.0299 - accuracy: 0.7772\n"
          ]
        }
      ]
    },
    {
      "cell_type": "code",
      "source": [
        "import matplotlib.pyplot as plt\n",
        "\n",
        "accuracy = history.history[\"accuracy\"]\n",
        "val_accuracy = history.history[\"val_accuracy\"]\n",
        "loss = history.history[\"loss\"]\n",
        "val_loss = history.history[\"val_loss\"]\n",
        "epochs = range(1, len(accuracy) + 1)\n",
        "\n",
        "plt.plot(epochs, accuracy, \"bo\", label=\"Training accuracy\")\n",
        "plt.plot(epochs, val_accuracy, \"b\", label=\"Validation accuracy\")\n",
        "plt.title(\"Training and validation accuracy\")\n",
        "plt.legend()\n",
        "plt.figure()\n",
        "plt.plot(epochs, loss, \"bo\", label=\"Training loss\")\n",
        "plt.plot(epochs, val_loss, \"b\", label=\"Validation loss\")\n",
        "plt.title(\"Training and validation loss\")\n",
        "plt.legend()\n",
        "plt.show()"
      ],
      "metadata": {
        "colab": {
          "base_uri": "https://localhost:8080/",
          "height": 545
        },
        "id": "prMuPHtoOVoZ",
        "outputId": "f2744ef8-5e3c-4582-b901-70b74c835698"
      },
      "execution_count": null,
      "outputs": [
        {
          "output_type": "display_data",
          "data": {
            "text/plain": [
              "<Figure size 432x288 with 1 Axes>"
            ],
            "image/png": "[encoded data removed]"
          },
          "metadata": {
            "needs_background": "light"
          }
        },
        {
          "output_type": "display_data",
          "data": {
            "text/plain": [
              "<Figure size 432x288 with 1 Axes>"
            ],
            "image/png": "[encoded data removed]"
          },
          "metadata": {
            "needs_background": "light"
          }
        }
      ]
    },
    {
      "cell_type": "markdown",
      "metadata": {
        "id": "271P5sdGZTRu"
      },
      "source": [
        "## **Classification task** - SR applied images"
      ]
    },
    {
      "cell_type": "code",
      "source": [
        "new_base_dir_SR = pathlib.Path(\"/content/drive/MyDrive/THESIS /subsampled_SR\")"
      ],
      "metadata": {
        "id": "HdfpubPkRrbO"
      },
      "execution_count": null,
      "outputs": []
    },
    {
      "cell_type": "code",
      "execution_count": null,
      "metadata": {
        "id": "eZTGjWn0XgUn"
      },
      "outputs": [],
      "source": [
        "modelSR = keras.Sequential()\n",
        "\n",
        "# Convolutional layer and maxpool layer 1\n",
        "modelSR.add(keras.layers.Conv2D(32,(3,3),activation='relu',input_shape=(512,512,3)))\n",
        "modelSR.add(keras.layers.MaxPool2D(2,2))\n",
        "modelSR.add(BatchNormalization())\n",
        "\n",
        "# Convolutional layer and maxpool layer 2\n",
        "modelSR.add(keras.layers.Conv2D(64,(3,3),activation='relu'))\n",
        "modelSR.add(keras.layers.MaxPool2D(2,2))\n",
        "modelSR.add(BatchNormalization())\n",
        "\n",
        "# Convolutional layer and maxpool layer 3\n",
        "modelSR.add(keras.layers.Conv2D(128,(3,3),activation='relu'))\n",
        "modelSR.add(keras.layers.MaxPool2D(2,2))\n",
        "modelSR.add(BatchNormalization())\n",
        "\n",
        "# Convolutional layer and maxpool layer 4\n",
        "modelSR.add(keras.layers.Conv2D(128,(3,3),activation='relu'))\n",
        "modelSR.add(keras.layers.MaxPool2D(2,2))\n",
        "modelSR.add(BatchNormalization())\n",
        "\n",
        "# This layer flattens the resulting image array to 1D array\n",
        "modelSR.add(keras.layers.Flatten())\n",
        "\n",
        "# Hidden layer with 512 neurons and Rectified Linear Unit activation function \n",
        "modelSR.add(keras.layers.Dense(512,activation='relu'))\n",
        "\n",
        "# Output layer with single neuron which gives 0 for malignant or 1 for benign \n",
        "#Here we use sigmoid activation function which makes our model output to lie between 0 and 1\n",
        "modelSR.add(keras.layers.Dense(1,activation='sigmoid'))"
      ]
    },
    {
      "cell_type": "code",
      "execution_count": null,
      "metadata": {
        "colab": {
          "base_uri": "https://localhost:8080/"
        },
        "id": "mo1LVOwDXiw9",
        "outputId": "b89452fd-aed2-451d-85d3-25b2bdcc3528"
      },
      "outputs": [
        {
          "output_type": "stream",
          "name": "stdout",
          "text": [
            "Model: \"sequential_1\"\n",
            "_________________________________________________________________\n",
            " Layer (type)                Output Shape              Param #   \n",
            "=================================================================\n",
            " conv2d_4 (Conv2D)           (None, 510, 510, 32)      896       \n",
            "                                                                 \n",
            " max_pooling2d_4 (MaxPooling  (None, 255, 255, 32)     0         \n",
            " 2D)                                                             \n",
            "                                                                 \n",
            " batch_normalization_4 (Batc  (None, 255, 255, 32)     128       \n",
            " hNormalization)                                                 \n",
            "                                                                 \n",
            " conv2d_5 (Conv2D)           (None, 253, 253, 64)      18496     \n",
            "                                                                 \n",
            " max_pooling2d_5 (MaxPooling  (None, 126, 126, 64)     0         \n",
            " 2D)                                                             \n",
            "                                                                 \n",
            " batch_normalization_5 (Batc  (None, 126, 126, 64)     256       \n",
            " hNormalization)                                                 \n",
            "                                                                 \n",
            " conv2d_6 (Conv2D)           (None, 124, 124, 128)     73856     \n",
            "                                                                 \n",
            " max_pooling2d_6 (MaxPooling  (None, 62, 62, 128)      0         \n",
            " 2D)                                                             \n",
            "                                                                 \n",
            " batch_normalization_6 (Batc  (None, 62, 62, 128)      512       \n",
            " hNormalization)                                                 \n",
            "                                                                 \n",
            " conv2d_7 (Conv2D)           (None, 60, 60, 128)       147584    \n",
            "                                                                 \n",
            " max_pooling2d_7 (MaxPooling  (None, 30, 30, 128)      0         \n",
            " 2D)                                                             \n",
            "                                                                 \n",
            " batch_normalization_7 (Batc  (None, 30, 30, 128)      512       \n",
            " hNormalization)                                                 \n",
            "                                                                 \n",
            " flatten_1 (Flatten)         (None, 115200)            0         \n",
            "                                                                 \n",
            " dense_2 (Dense)             (None, 512)               58982912  \n",
            "                                                                 \n",
            " dense_3 (Dense)             (None, 1)                 513       \n",
            "                                                                 \n",
            "=================================================================\n",
            "Total params: 59,225,665\n",
            "Trainable params: 59,224,961\n",
            "Non-trainable params: 704\n",
            "_________________________________________________________________\n"
          ]
        }
      ],
      "source": [
        "modelSR.summary()"
      ]
    },
    {
      "cell_type": "code",
      "execution_count": null,
      "metadata": {
        "id": "dV7IE2A_XkbM"
      },
      "outputs": [],
      "source": [
        " modelSR.compile(loss=\"binary_crossentropy\",\n",
        "              optimizer=\"rmsprop\",\n",
        "              metrics=[\"accuracy\"])"
      ]
    },
    {
      "cell_type": "code",
      "source": [
        "from tensorflow.keras.preprocessing import image_dataset_from_directory\n",
        "\n",
        "train_dataset_SR = image_dataset_from_directory(\n",
        "    new_base_dir_sr / \"train\",\n",
        "    image_size=(512, 512),\n",
        "    batch_size=32)\n",
        "validation_dataset_SR = image_dataset_from_directory(\n",
        "    new_base_dir_sr / \"validation\",\n",
        "    image_size=(512, 512),\n",
        "    batch_size=32)\n",
        "test_dataset_SR = image_dataset_from_directory(\n",
        "    new_base_dir_sr / \"test\",\n",
        "    image_size=(512, 512),\n",
        "    batch_size=32)"
      ],
      "metadata": {
        "id": "pe3pJgyk_vUt"
      },
      "execution_count": null,
      "outputs": []
    },
    {
      "cell_type": "code",
      "execution_count": null,
      "metadata": {
        "colab": {
          "base_uri": "https://localhost:8080/"
        },
        "id": "vwl5BT9MXqe-",
        "outputId": "6bfab75a-6fdb-4913-ceca-eb0e629c7307"
      },
      "outputs": [
        {
          "output_type": "stream",
          "name": "stdout",
          "text": [
            "Epoch 1/30\n",
            "25/25 [==============================] - 150s 5s/step - loss: 45.3281 - accuracy: 0.7880 - val_loss: 2705.8318 - val_accuracy: 0.7154\n",
            "Epoch 2/30\n",
            "25/25 [==============================] - 16s 589ms/step - loss: 9.2355 - accuracy: 0.8455 - val_loss: 723.7643 - val_accuracy: 0.7154\n",
            "Epoch 3/30\n",
            "25/25 [==============================] - 16s 591ms/step - loss: 2.1353 - accuracy: 0.8301 - val_loss: 6538.4326 - val_accuracy: 0.7154\n",
            "Epoch 4/30\n",
            "25/25 [==============================] - 17s 591ms/step - loss: 2.5531 - accuracy: 0.8697 - val_loss: 820.2898 - val_accuracy: 0.7154\n",
            "Epoch 5/30\n",
            "25/25 [==============================] - 16s 591ms/step - loss: 5.7939 - accuracy: 0.8455 - val_loss: 3683.8635 - val_accuracy: 0.7154\n",
            "Epoch 6/30\n",
            "25/25 [==============================] - 16s 591ms/step - loss: 0.4572 - accuracy: 0.8608 - val_loss: 1637.1968 - val_accuracy: 0.7171\n",
            "Epoch 7/30\n",
            "25/25 [==============================] - 17s 602ms/step - loss: 0.5060 - accuracy: 0.8659 - val_loss: 1792.8971 - val_accuracy: 0.7610\n",
            "Epoch 8/30\n",
            "25/25 [==============================] - 17s 619ms/step - loss: 0.2848 - accuracy: 0.8825 - val_loss: 1412.4324 - val_accuracy: 0.8130\n",
            "Epoch 9/30\n",
            "25/25 [==============================] - 18s 631ms/step - loss: 0.2895 - accuracy: 0.8851 - val_loss: 1078.6139 - val_accuracy: 0.8146\n",
            "Epoch 10/30\n",
            "25/25 [==============================] - 18s 626ms/step - loss: 30.3080 - accuracy: 0.8557 - val_loss: 1625.6299 - val_accuracy: 0.7252\n",
            "Epoch 11/30\n",
            "25/25 [==============================] - 18s 636ms/step - loss: 1.6407 - accuracy: 0.8774 - val_loss: 1276.0604 - val_accuracy: 0.7431\n",
            "Epoch 12/30\n",
            "25/25 [==============================] - 18s 649ms/step - loss: 0.5623 - accuracy: 0.8953 - val_loss: 1019.7802 - val_accuracy: 0.7593\n",
            "Epoch 13/30\n",
            "25/25 [==============================] - 18s 630ms/step - loss: 0.3944 - accuracy: 0.8978 - val_loss: 434.9055 - val_accuracy: 0.8309\n",
            "Epoch 14/30\n",
            "25/25 [==============================] - 18s 639ms/step - loss: 1.9640 - accuracy: 0.8748 - val_loss: 1936.0138 - val_accuracy: 0.7171\n",
            "Epoch 15/30\n",
            "25/25 [==============================] - 18s 636ms/step - loss: 0.5396 - accuracy: 0.9144 - val_loss: 491.6578 - val_accuracy: 0.7902\n",
            "Epoch 16/30\n",
            "25/25 [==============================] - 18s 636ms/step - loss: 0.2313 - accuracy: 0.9157 - val_loss: 3619.6902 - val_accuracy: 0.7154\n",
            "Epoch 17/30\n",
            "25/25 [==============================] - 18s 639ms/step - loss: 6.3478 - accuracy: 0.8774 - val_loss: 4361.1641 - val_accuracy: 0.7431\n",
            "Epoch 18/30\n",
            "25/25 [==============================] - 18s 650ms/step - loss: 0.1996 - accuracy: 0.9170 - val_loss: 2717.6965 - val_accuracy: 0.8016\n",
            "Epoch 19/30\n",
            "25/25 [==============================] - 18s 643ms/step - loss: 0.1580 - accuracy: 0.9476 - val_loss: 1128.8125 - val_accuracy: 0.8163\n",
            "Epoch 20/30\n",
            "25/25 [==============================] - 18s 638ms/step - loss: 0.1426 - accuracy: 0.9515 - val_loss: 1457.9171 - val_accuracy: 0.7967\n",
            "Epoch 21/30\n",
            "25/25 [==============================] - 18s 647ms/step - loss: 0.1286 - accuracy: 0.9515 - val_loss: 1918.1569 - val_accuracy: 0.7691\n",
            "Epoch 22/30\n",
            "25/25 [==============================] - 18s 639ms/step - loss: 0.1502 - accuracy: 0.9425 - val_loss: 1409.7842 - val_accuracy: 0.6472\n",
            "Epoch 23/30\n",
            "25/25 [==============================] - 18s 648ms/step - loss: 0.1597 - accuracy: 0.9579 - val_loss: 577.4522 - val_accuracy: 0.8228\n",
            "Epoch 24/30\n",
            "25/25 [==============================] - 18s 636ms/step - loss: 0.1575 - accuracy: 0.9591 - val_loss: 457.8402 - val_accuracy: 0.7106\n",
            "Epoch 25/30\n",
            "25/25 [==============================] - 18s 640ms/step - loss: 1.3008 - accuracy: 0.9617 - val_loss: 464.5175 - val_accuracy: 0.8065\n",
            "Epoch 26/30\n",
            "25/25 [==============================] - 18s 641ms/step - loss: 2.0375 - accuracy: 0.9668 - val_loss: 371.8011 - val_accuracy: 0.6341\n",
            "Epoch 27/30\n",
            "25/25 [==============================] - 18s 642ms/step - loss: 0.0754 - accuracy: 0.9681 - val_loss: 297.7718 - val_accuracy: 0.7268\n",
            "Epoch 28/30\n",
            "25/25 [==============================] - 18s 639ms/step - loss: 0.0708 - accuracy: 0.9783 - val_loss: 408.3524 - val_accuracy: 0.7724\n",
            "Epoch 29/30\n",
            "25/25 [==============================] - 18s 642ms/step - loss: 0.0799 - accuracy: 0.9757 - val_loss: 761.2278 - val_accuracy: 0.7886\n",
            "Epoch 30/30\n",
            "25/25 [==============================] - 18s 644ms/step - loss: 0.0555 - accuracy: 0.9783 - val_loss: 268.1274 - val_accuracy: 0.8016\n"
          ]
        }
      ],
      "source": [
        "history2 = modelSR.fit(\n",
        "    train_dataset_SR,\n",
        "    epochs=30,\n",
        "    validation_data=validation_dataset_SR)"
      ]
    },
    {
      "cell_type": "code",
      "source": [
        "predict3=model2.predict(test_dataset_or)"
      ],
      "metadata": {
        "id": "fA_EHymhJSqz"
      },
      "execution_count": null,
      "outputs": []
    },
    {
      "cell_type": "code",
      "source": [
        "results3 = model2.evaluate(test_dataset_or)"
      ],
      "metadata": {
        "colab": {
          "base_uri": "https://localhost:8080/"
        },
        "id": "7e_ffjb6JZxA",
        "outputId": "3de6ca53-d1c8-49d0-9bef-1a90d37e10c1"
      },
      "execution_count": null,
      "outputs": [
        {
          "metadata": {
            "tags": null
          },
          "name": "stdout",
          "output_type": "stream",
          "text": [
            "20/20 [==============================] - 90s 2s/step - loss: 536.6851 - accuracy: 0.8520\n"
          ]
        }
      ]
    },
    {
      "cell_type": "code",
      "source": [
        "import matplotlib.pyplot as plt\n",
        "\n",
        "accuracy = history3.history[\"accuracy\"]\n",
        "val_accuracy = history3.history[\"val_accuracy\"]\n",
        "loss = history3.history[\"loss\"]\n",
        "val_loss = history3.history[\"val_loss\"]\n",
        "epochs = range(1, len(accuracy) + 1)\n",
        "\n",
        "plt.plot(epochs, accuracy, \"bo\", label=\"Training accuracy\")\n",
        "plt.plot(epochs, val_accuracy, \"b\", label=\"Validation accuracy\")\n",
        "plt.title(\"Training and validation accuracy\")\n",
        "plt.legend()\n",
        "plt.figure()\n",
        "plt.plot(epochs, loss, \"bo\", label=\"Training loss\")\n",
        "plt.plot(epochs, val_loss, \"b\", label=\"Validation loss\")\n",
        "plt.title(\"Training and validation loss\")\n",
        "plt.legend()\n",
        "plt.show()"
      ],
      "metadata": {
        "colab": {
          "base_uri": "https://localhost:8080/",
          "height": 545
        },
        "id": "8FbFzHFEOZKO",
        "outputId": "3b73d2c8-acc4-428e-9ab6-7a34a9937b22"
      },
      "execution_count": null,
      "outputs": [
        {
          "output_type": "display_data",
          "data": {
            "text/plain": [
              "<Figure size 432x288 with 1 Axes>"
            ],
            "image/png": "[encoded data removed]"
          },
          "metadata": {
            "needs_background": "light"
          }
        },
        {
          "output_type": "display_data",
          "data": {
            "text/plain": [
              "<Figure size 432x288 with 1 Axes>"
            ],
            "image/png": "[encoded data removed]"
          },
          "metadata": {
            "needs_background": "light"
          }
        }
      ]
    },
    {
      "cell_type": "markdown",
      "source": [
        "## **Classification task** - Non-SR applied directly 512x512 images. \n",
        "\n",
        "without downsampling to 128x128 then upsampling to 512x512 but directly changing the size to 512x512 from 700x460. \n",
        "\n"
      ],
      "metadata": {
        "id": "DcGIV0ha_QTr"
      }
    },
    {
      "cell_type": "code",
      "source": [
        "new_base_dir_or = pathlib.Path(\"/content/drive/MyDrive/THESIS /subsampled_originalres\")"
      ],
      "metadata": {
        "id": "E9WKWRJns2fJ"
      },
      "execution_count": null,
      "outputs": []
    },
    {
      "cell_type": "code",
      "source": [
        "model2 = keras.Sequential()\n",
        "\n",
        "# Convolutional layer and maxpool layer 1\n",
        "model2.add(keras.layers.Conv2D(32,(3,3),activation='relu',input_shape=(512,512,3)))\n",
        "model2.add(keras.layers.MaxPool2D(2,2))\n",
        "model2.add(BatchNormalization())\n",
        "\n",
        "# Convolutional layer and maxpool layer 2\n",
        "model2.add(keras.layers.Conv2D(64,(3,3),activation='relu'))\n",
        "model2.add(keras.layers.MaxPool2D(2,2))\n",
        "model2.add(BatchNormalization())\n",
        "\n",
        "# Convolutional layer and maxpool layer 3\n",
        "model2.add(keras.layers.Conv2D(128,(3,3),activation='relu'))\n",
        "model2.add(keras.layers.MaxPool2D(2,2))\n",
        "model2.add(BatchNormalization())\n",
        "\n",
        "# Convolutional layer and maxpool layer 4\n",
        "model2.add(keras.layers.Conv2D(128,(3,3),activation='relu'))\n",
        "model2.add(keras.layers.MaxPool2D(2,2))\n",
        "model2.add(BatchNormalization())\n",
        "\n",
        "# This layer flattens the resulting image array to 1D array\n",
        "model2.add(keras.layers.Flatten())\n",
        "\n",
        "# Hidden layer with 512 neurons and Rectified Linear Unit activation function \n",
        "model2.add(keras.layers.Dense(512,activation='relu'))\n",
        "\n",
        "# Output layer with single neuron which gives 0 for malignant or 1 for benign \n",
        "#Here we use sigmoid activation function which makes our model output to lie between 0 and 1\n",
        "model2.add(keras.layers.Dense(1,activation='sigmoid'))"
      ],
      "metadata": {
        "id": "TqNa-Z70_vPH"
      },
      "execution_count": null,
      "outputs": []
    },
    {
      "cell_type": "code",
      "source": [
        " model2.compile(loss=\"binary_crossentropy\",\n",
        "              optimizer=\"rmsprop\",\n",
        "              metrics=[\"accuracy\"])"
      ],
      "metadata": {
        "id": "fDcbPz1a_vST"
      },
      "execution_count": null,
      "outputs": []
    },
    {
      "cell_type": "code",
      "execution_count": null,
      "metadata": {
        "colab": {
          "base_uri": "https://localhost:8080/"
        },
        "id": "FAVrhUIqXmUl",
        "outputId": "1a979d33-acb5-42ba-ec01-8d6d47bcaafb"
      },
      "outputs": [
        {
          "output_type": "stream",
          "name": "stdout",
          "text": [
            "Found 783 files belonging to 2 classes.\n",
            "Found 615 files belonging to 2 classes.\n",
            "Found 615 files belonging to 2 classes.\n"
          ]
        }
      ],
      "source": [
        "from tensorflow.keras.preprocessing import image_dataset_from_directory\n",
        "\n",
        "train_dataset_or = image_dataset_from_directory(\n",
        "    new_base_dir_or / \"train\",\n",
        "    image_size=(512, 512),\n",
        "    batch_size=32)\n",
        "validation_dataset_or = image_dataset_from_directory(\n",
        "    new_base_dir_or / \"validation\",\n",
        "    image_size=(512, 512),\n",
        "    batch_size=32)\n",
        "test_dataset_or = image_dataset_from_directory(\n",
        "    new_base_dir_or / \"test\",\n",
        "    image_size=(512, 512),\n",
        "    batch_size=32)"
      ]
    },
    {
      "cell_type": "code",
      "source": [
        "history3 = model2.fit(\n",
        "    train_dataset_or,\n",
        "    epochs=30,\n",
        "    validation_data=validation_dataset_or)"
      ],
      "metadata": {
        "colab": {
          "base_uri": "https://localhost:8080/"
        },
        "id": "RvFa6kJb_vW-",
        "outputId": "efc66dca-1e1d-421d-dac8-434fb98859aa"
      },
      "execution_count": null,
      "outputs": [
        {
          "output_type": "stream",
          "name": "stdout",
          "text": [
            "Epoch 1/30\n",
            "25/25 [==============================] - 182s 6s/step - loss: 57.3267 - accuracy: 0.7944 - val_loss: 4137.5474 - val_accuracy: 0.2846\n",
            "Epoch 2/30\n",
            "25/25 [==============================] - 27s 982ms/step - loss: 18.6635 - accuracy: 0.8250 - val_loss: 2284.0623 - val_accuracy: 0.2846\n",
            "Epoch 3/30\n",
            "25/25 [==============================] - 27s 986ms/step - loss: 12.0004 - accuracy: 0.8570 - val_loss: 64.8496 - val_accuracy: 0.2813\n",
            "Epoch 4/30\n",
            "25/25 [==============================] - 27s 971ms/step - loss: 0.7372 - accuracy: 0.8685 - val_loss: 163.9948 - val_accuracy: 0.2846\n",
            "Epoch 5/30\n",
            "25/25 [==============================] - 27s 966ms/step - loss: 22.0007 - accuracy: 0.8110 - val_loss: 240.6838 - val_accuracy: 0.7220\n",
            "Epoch 6/30\n",
            "25/25 [==============================] - 27s 974ms/step - loss: 3.3485 - accuracy: 0.8710 - val_loss: 90.9938 - val_accuracy: 0.3756\n",
            "Epoch 7/30\n",
            "25/25 [==============================] - 27s 983ms/step - loss: 0.7365 - accuracy: 0.8723 - val_loss: 19.2996 - val_accuracy: 0.3545\n",
            "Epoch 8/30\n",
            "25/25 [==============================] - 27s 967ms/step - loss: 3.8530 - accuracy: 0.8557 - val_loss: 147.4227 - val_accuracy: 0.6764\n",
            "Epoch 9/30\n",
            "25/25 [==============================] - 27s 983ms/step - loss: 1.4368 - accuracy: 0.8761 - val_loss: 14.2220 - val_accuracy: 0.4455\n",
            "Epoch 10/30\n",
            "25/25 [==============================] - 27s 971ms/step - loss: 2.8719 - accuracy: 0.8736 - val_loss: 25.8553 - val_accuracy: 0.5203\n",
            "Epoch 11/30\n",
            "25/25 [==============================] - 27s 967ms/step - loss: 0.2768 - accuracy: 0.8953 - val_loss: 208.5204 - val_accuracy: 0.6780\n",
            "Epoch 12/30\n",
            "25/25 [==============================] - 27s 984ms/step - loss: 5.1730 - accuracy: 0.8927 - val_loss: 646.6179 - val_accuracy: 0.7285\n",
            "Epoch 13/30\n",
            "25/25 [==============================] - 27s 974ms/step - loss: 1.9100 - accuracy: 0.8851 - val_loss: 5.2742 - val_accuracy: 0.5935\n",
            "Epoch 14/30\n",
            "25/25 [==============================] - 27s 980ms/step - loss: 0.6509 - accuracy: 0.9144 - val_loss: 3.4155 - val_accuracy: 0.5756\n",
            "Epoch 15/30\n",
            "25/25 [==============================] - 27s 978ms/step - loss: 2.7091 - accuracy: 0.9285 - val_loss: 163.3418 - val_accuracy: 0.6569\n",
            "Epoch 16/30\n",
            "25/25 [==============================] - 27s 959ms/step - loss: 0.3955 - accuracy: 0.9387 - val_loss: 10.9055 - val_accuracy: 0.7073\n",
            "Epoch 17/30\n",
            "25/25 [==============================] - 27s 971ms/step - loss: 1.2387 - accuracy: 0.9323 - val_loss: 19.0871 - val_accuracy: 0.7870\n",
            "Epoch 18/30\n",
            "25/25 [==============================] - 27s 985ms/step - loss: 2.6800 - accuracy: 0.9400 - val_loss: 1115.2117 - val_accuracy: 0.3073\n",
            "Epoch 19/30\n",
            "25/25 [==============================] - 27s 964ms/step - loss: 0.7201 - accuracy: 0.9374 - val_loss: 71.6598 - val_accuracy: 0.6959\n",
            "Epoch 20/30\n",
            "25/25 [==============================] - 27s 987ms/step - loss: 2.4271 - accuracy: 0.9132 - val_loss: 59.5867 - val_accuracy: 0.7220\n",
            "Epoch 21/30\n",
            "25/25 [==============================] - 27s 971ms/step - loss: 1.5073 - accuracy: 0.9604 - val_loss: 34.4248 - val_accuracy: 0.8325\n",
            "Epoch 22/30\n",
            "25/25 [==============================] - 27s 985ms/step - loss: 0.2877 - accuracy: 0.9323 - val_loss: 38.7712 - val_accuracy: 0.8000\n",
            "Epoch 23/30\n",
            "25/25 [==============================] - 27s 971ms/step - loss: 0.4451 - accuracy: 0.9566 - val_loss: 294.3882 - val_accuracy: 0.7220\n",
            "Epoch 24/30\n",
            "25/25 [==============================] - 27s 988ms/step - loss: 4.5649 - accuracy: 0.9272 - val_loss: 43.2006 - val_accuracy: 0.7902\n",
            "Epoch 25/30\n",
            "25/25 [==============================] - 27s 970ms/step - loss: 0.3871 - accuracy: 0.9655 - val_loss: 76.5146 - val_accuracy: 0.6260\n",
            "Epoch 26/30\n",
            "25/25 [==============================] - 27s 973ms/step - loss: 0.0767 - accuracy: 0.9732 - val_loss: 45.0277 - val_accuracy: 0.8033\n",
            "Epoch 27/30\n",
            "25/25 [==============================] - 27s 982ms/step - loss: 3.0631 - accuracy: 0.9387 - val_loss: 5.3275 - val_accuracy: 0.7593\n",
            "Epoch 28/30\n",
            "25/25 [==============================] - 27s 973ms/step - loss: 1.1936 - accuracy: 0.9642 - val_loss: 31.6828 - val_accuracy: 0.7593\n",
            "Epoch 29/30\n",
            "25/25 [==============================] - 27s 978ms/step - loss: 0.1666 - accuracy: 0.9808 - val_loss: 86.8726 - val_accuracy: 0.7154\n",
            "Epoch 30/30\n",
            "25/25 [==============================] - 27s 969ms/step - loss: 0.1779 - accuracy: 0.9719 - val_loss: 84.1535 - val_accuracy: 0.7187\n"
          ]
        }
      ]
    },
    {
      "cell_type": "code",
      "source": [
        "predict3=model2.predict(test_dataset_or)"
      ],
      "metadata": {
        "id": "KJcqNHFr_vZX"
      },
      "execution_count": null,
      "outputs": []
    },
    {
      "cell_type": "code",
      "source": [
        "results3 = model2.evaluate(test_dataset_or)"
      ],
      "metadata": {
        "colab": {
          "base_uri": "https://localhost:8080/"
        },
        "id": "SJ3ASbYT_vbu",
        "outputId": "15f9aa63-57b4-437b-ba90-fe969a2b67ea"
      },
      "execution_count": null,
      "outputs": [
        {
          "output_type": "stream",
          "name": "stdout",
          "text": [
            "20/20 [==============================] - 12s 301ms/step - loss: 44.8404 - accuracy: 0.7220\n"
          ]
        }
      ]
    }
  ],
  "metadata": {
    "colab": {
      "collapsed_sections": [],
      "name": "THESIS CNN FINAL ",
      "provenance": [],
      "mount_file_id": "1USdWRUe_0A0jLBrd_vqm4TPecEKCaeDm",
      "authorship_tag": "ABX9TyOZr68czCmYWN1we7K3q43p",
      "include_colab_link": true
    },
    "kernelspec": {
      "display_name": "Python 3",
      "name": "python3"
    },
    "language_info": {
      "name": "python"
    },
    "accelerator": "GPU"
  },
  "nbformat": 4,
  "nbformat_minor": 0
}