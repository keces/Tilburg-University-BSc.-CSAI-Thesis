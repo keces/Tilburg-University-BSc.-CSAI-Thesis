{
  "cells": [
    {
      "cell_type": "markdown",
      "metadata": {
        "id": "view-in-github",
        "colab_type": "text"
      },
      "source": [
        "<a href=\"https://colab.research.google.com/github/keces/Tilburg-University-BSc.-CSAI-Thesis/blob/main/THESIS_CNN_FINAL.ipynb\" target=\"_parent\"><img src=\"https://colab.research.google.com/assets/colab-badge.svg\" alt=\"Open In Colab\"/></a>"
      ]
    },
    {
      "cell_type": "code",
      "source": [
        "from google.colab import drive\n",
        "drive.mount('/content/drive')"
      ],
      "metadata": {
        "colab": {
          "base_uri": "https://localhost:8080/"
        },
        "id": "OAqGRKQDrMB1",
        "outputId": "13b67157-b35c-4b90-a012-57bd8c8452c6"
      },
      "execution_count": null,
      "outputs": [
        {
          "output_type": "stream",
          "name": "stdout",
          "text": [
            "Mounted at /content/drive\n"
          ]
        }
      ]
    },
    {
      "cell_type": "code",
      "execution_count": null,
      "metadata": {
        "id": "sCTwspa_JpNc"
      },
      "outputs": [],
      "source": [
        "import tensorflow as tf\n",
        "import numpy as np\n",
        "from tensorflow import keras\n",
        "import os, shutil, pathlib\n",
        "import cv2\n",
        "from tensorflow.keras.preprocessing.image import ImageDataGenerator\n",
        "from tensorflow.keras.preprocessing import image\n",
        "import matplotlib.pyplot as plt\n",
        "from tensorflow.keras import layers\n",
        "from tensorflow.keras import optimizers\n",
        "from keras.layers import BatchNormalization, Conv2D, MaxPool2D, Flatten, Dense, AveragePooling2D"
      ]
    },
    
    {
      "cell_type": "markdown",
      "metadata": {
        "id": "LCYfjAPfXb4W"
      },
      "source": [
        "## **Classification task** - Non-SR applied images\n",
        "\n"
      ]
    },
    {
      "cell_type": "code",
      "execution_count": null,
      "metadata": {
        "id": "PmET-sJVJyjF"
      },
      "outputs": [],
      "source": [
        "#path where Non-SR, low resolution images exist in my Google Drive\n",
        "\n",
        "import os, shutil, pathlib\n",
        "new_base_dir = pathlib.Path(\"/content/drive/MyDrive/THESIS DOCS/subsampled\")"
      ]
    },
    {
      "cell_type": "code",
      "execution_count": null,
      "metadata": {
        "id": "Auyfomvdy4X8"
      },
      "outputs": [],
      "source": [
        "#Keras Sequential Model to implement CNN\n",
        "\n",
        "model = keras.Sequential()\n",
        "\n",
        "# Convolutional layer and maxpool layer 1\n",
        "model.add(keras.layers.Conv2D(32,(3,3),activation='relu',input_shape=(512,512,3)))\n",
        "model.add(keras.layers.MaxPool2D(2,2))\n",
        "model.add(keras.layers.BatchNormalization())\n",
        "\n",
        "# Convolutional layer and maxpool layer 2\n",
        "model.add(keras.layers.Conv2D(64,(3,3),activation='relu'))\n",
        "model.add(keras.layers.MaxPool2D(2,2))\n",
        "model.add(keras.layers.BatchNormalization())\n",
        "\n",
        "# Convolutional layer and maxpool layer 3\n",
        "model.add(keras.layers.Conv2D(128,(3,3),activation='relu'))\n",
        "model.add(keras.layers.MaxPool2D(2,2))\n",
        "model.add(keras.layers.BatchNormalization())\n",
        "\n",
        "# Convolutional layer and maxpool layer 4\n",
        "model.add(keras.layers.Conv2D(128,(3,3),activation='relu'))\n",
        "model.add(keras.layers.MaxPool2D(2,2))\n",
        "model.add(keras.layers.BatchNormalization())\n",
        "\n",
        "# This layer flattens the resulting image array to 1D array\n",
        "model.add(keras.layers.Flatten())\n",
        "\n",
        "# Hidden layer with 512 neurons and Rectified Linear Unit activation function \n",
        "model.add(keras.layers.Dense(512,activation='relu'))\n",
        "\n",
        "# Output layer with single neuron which gives 0 for malignant or 1 for benign \n",
        "#Here we use sigmoid activation function which makes our model output to lie between 0 and 1\n",
        "model.add(keras.layers.Dense(1,activation='sigmoid'))"
      ]
    },
    {
      "cell_type": "code",
      "execution_count": null,
      "metadata": {
        "colab": {
          "base_uri": "https://localhost:8080/"
        },
        "id": "GmTxkSeyy4hj",
        "outputId": "4e121446-85d5-4fce-a645-4f38a8061785"
      },
      "outputs": [
        {
          "output_type": "stream",
          "name": "stdout",
          "text": [
            "Model: \"sequential\"\n",
            "_________________________________________________________________\n",
            " Layer (type)                Output Shape              Param #   \n",
            "=================================================================\n",
            " conv2d (Conv2D)             (None, 510, 510, 32)      896       \n",
            "                                                                 \n",
            " max_pooling2d (MaxPooling2D  (None, 255, 255, 32)     0         \n",
            " )                                                               \n",
            "                                                                 \n",
            " batch_normalization (BatchN  (None, 255, 255, 32)     128       \n",
            " ormalization)                                                   \n",
            "                                                                 \n",
            " conv2d_1 (Conv2D)           (None, 253, 253, 64)      18496     \n",
            "                                                                 \n",
            " max_pooling2d_1 (MaxPooling  (None, 126, 126, 64)     0         \n",
            " 2D)                                                             \n",
            "                                                                 \n",
            " batch_normalization_1 (Batc  (None, 126, 126, 64)     256       \n",
            " hNormalization)                                                 \n",
            "                                                                 \n",
            " conv2d_2 (Conv2D)           (None, 124, 124, 128)     73856     \n",
            "                                                                 \n",
            " max_pooling2d_2 (MaxPooling  (None, 62, 62, 128)      0         \n",
            " 2D)                                                             \n",
            "                                                                 \n",
            " batch_normalization_2 (Batc  (None, 62, 62, 128)      512       \n",
            " hNormalization)                                                 \n",
            "                                                                 \n",
            " conv2d_3 (Conv2D)           (None, 60, 60, 128)       147584    \n",
            "                                                                 \n",
            " max_pooling2d_3 (MaxPooling  (None, 30, 30, 128)      0         \n",
            " 2D)                                                             \n",
            "                                                                 \n",
            " batch_normalization_3 (Batc  (None, 30, 30, 128)      512       \n",
            " hNormalization)                                                 \n",
            "                                                                 \n",
            " flatten (Flatten)           (None, 115200)            0         \n",
            "                                                                 \n",
            " dense (Dense)               (None, 512)               58982912  \n",
            "                                                                 \n",
            " dense_1 (Dense)             (None, 1)                 513       \n",
            "                                                                 \n",
            "=================================================================\n",
            "Total params: 59,225,665\n",
            "Trainable params: 59,224,961\n",
            "Non-trainable params: 704\n",
            "_________________________________________________________________\n"
          ]
        }
      ],
      "source": [
        "#summary of the CNN architecture created\n",
        "\n",
        "model.summary()"
      ]
    },
    {
      "cell_type": "code",
      "execution_count": null,
      "metadata": {
        "id": "c9u0fZ3Fy4om"
      },
      "outputs": [],
      "source": [
        " model.compile(loss=\"binary_crossentropy\",\n",
        "              optimizer=\"adam\",\n",
        "              metrics=[\"accuracy\"])"
      ]
    },
    {
      "cell_type": "code",
      "execution_count": null,
      "metadata": {
        "colab": {
          "base_uri": "https://localhost:8080/"
        },
        "id": "dElUZDHRzmBR",
        "outputId": "76962095-ca5d-476d-db20-8211be67d35d"
      },
      "outputs": [
        {
          "output_type": "stream",
          "name": "stdout",
          "text": [
            "Found 783 files belonging to 2 classes.\n",
            "Found 615 files belonging to 2 classes.\n",
            "Found 615 files belonging to 2 classes.\n"
          ]
        }
      ],
      "source": [
        "from tensorflow.keras.preprocessing import image_dataset_from_directory\n",
        "\n",
        "train_dataset = image_dataset_from_directory(\n",
        "    new_base_dir / \"train\",\n",
        "    image_size=(512, 512),\n",
        "    batch_size=32)\n",
        "validation_dataset = image_dataset_from_directory(\n",
        "    new_base_dir / \"validation\",\n",
        "    image_size=(512, 512),\n",
        "    batch_size=32)\n",
        "test_dataset = image_dataset_from_directory(\n",
        "    new_base_dir / \"test\",\n",
        "    image_size=(512, 512),\n",
        "    batch_size=32)"
      ]
    },
    {
      "cell_type": "code",
      "execution_count": null,
      "metadata": {
        "colab": {
          "base_uri": "https://localhost:8080/"
        },
        "id": "CMFMWq30zpCH",
        "outputId": "e450f377-b3d8-4966-f98f-c5c0c32e270b"
      },
      "outputs": [
        {
          "output_type": "stream",
          "name": "stdout",
          "text": [
            "Epoch 1/30\n",
            "25/25 [==============================] - 95s 3s/step - loss: 15.4967 - accuracy: 0.8263 - val_loss: 167.0037 - val_accuracy: 0.2846\n",
            "Epoch 2/30\n",
            "25/25 [==============================] - 19s 653ms/step - loss: 5.5989 - accuracy: 0.9157 - val_loss: 255.3921 - val_accuracy: 0.2862\n",
            "Epoch 3/30\n",
            "25/25 [==============================] - 19s 666ms/step - loss: 6.7222 - accuracy: 0.8825 - val_loss: 88.0823 - val_accuracy: 0.2846\n",
            "Epoch 4/30\n",
            "25/25 [==============================] - 19s 663ms/step - loss: 1.7484 - accuracy: 0.9387 - val_loss: 13.4596 - val_accuracy: 0.4163\n",
            "Epoch 5/30\n",
            "25/25 [==============================] - 18s 651ms/step - loss: 1.1597 - accuracy: 0.9336 - val_loss: 66.2308 - val_accuracy: 0.3463\n",
            "Epoch 6/30\n",
            "25/25 [==============================] - 18s 654ms/step - loss: 0.4919 - accuracy: 0.9630 - val_loss: 18.4526 - val_accuracy: 0.6016\n",
            "Epoch 7/30\n",
            "25/25 [==============================] - 18s 652ms/step - loss: 0.4058 - accuracy: 0.9668 - val_loss: 14.6990 - val_accuracy: 0.8276\n",
            "Epoch 8/30\n",
            "25/25 [==============================] - 19s 655ms/step - loss: 0.1045 - accuracy: 0.9885 - val_loss: 23.3922 - val_accuracy: 0.6862\n",
            "Epoch 9/30\n",
            "25/25 [==============================] - 18s 649ms/step - loss: 0.1367 - accuracy: 0.9808 - val_loss: 36.7594 - val_accuracy: 0.7089\n",
            "Epoch 10/30\n",
            "25/25 [==============================] - 19s 660ms/step - loss: 0.3400 - accuracy: 0.9770 - val_loss: 22.5301 - val_accuracy: 0.7756\n",
            "Epoch 11/30\n",
            "25/25 [==============================] - 19s 659ms/step - loss: 0.5842 - accuracy: 0.9706 - val_loss: 33.7823 - val_accuracy: 0.6423\n",
            "Epoch 12/30\n",
            "25/25 [==============================] - 18s 649ms/step - loss: 0.8344 - accuracy: 0.9668 - val_loss: 66.8430 - val_accuracy: 0.6260\n",
            "Epoch 13/30\n",
            "25/25 [==============================] - 18s 651ms/step - loss: 2.5600 - accuracy: 0.9476 - val_loss: 50.0834 - val_accuracy: 0.6715\n",
            "Epoch 14/30\n",
            "25/25 [==============================] - 19s 665ms/step - loss: 1.2423 - accuracy: 0.9502 - val_loss: 26.2153 - val_accuracy: 0.5154\n",
            "Epoch 15/30\n",
            "25/25 [==============================] - 18s 655ms/step - loss: 0.7653 - accuracy: 0.9706 - val_loss: 14.6834 - val_accuracy: 0.7805\n",
            "Epoch 16/30\n",
            "25/25 [==============================] - 19s 656ms/step - loss: 1.0697 - accuracy: 0.9579 - val_loss: 20.3214 - val_accuracy: 0.7919\n",
            "Epoch 17/30\n",
            "25/25 [==============================] - 18s 647ms/step - loss: 0.3372 - accuracy: 0.9745 - val_loss: 15.3189 - val_accuracy: 0.5268\n",
            "Epoch 18/30\n",
            "25/25 [==============================] - 19s 662ms/step - loss: 0.1913 - accuracy: 0.9847 - val_loss: 6.7780 - val_accuracy: 0.7008\n",
            "Epoch 19/30\n",
            "25/25 [==============================] - 18s 650ms/step - loss: 0.2048 - accuracy: 0.9808 - val_loss: 6.8892 - val_accuracy: 0.7480\n",
            "Epoch 20/30\n",
            "25/25 [==============================] - 19s 662ms/step - loss: 0.0826 - accuracy: 0.9885 - val_loss: 5.1007 - val_accuracy: 0.8211\n",
            "Epoch 21/30\n",
            "25/25 [==============================] - 19s 657ms/step - loss: 0.0357 - accuracy: 0.9911 - val_loss: 6.7268 - val_accuracy: 0.8325\n",
            "Epoch 22/30\n",
            "25/25 [==============================] - 19s 658ms/step - loss: 0.0954 - accuracy: 0.9898 - val_loss: 14.5071 - val_accuracy: 0.6650\n",
            "Epoch 23/30\n",
            "25/25 [==============================] - 18s 656ms/step - loss: 0.0016 - accuracy: 0.9987 - val_loss: 9.1794 - val_accuracy: 0.7561\n",
            "Epoch 24/30\n",
            "25/25 [==============================] - 19s 662ms/step - loss: 0.0247 - accuracy: 0.9974 - val_loss: 12.7450 - val_accuracy: 0.7268\n",
            "Epoch 25/30\n",
            "25/25 [==============================] - 19s 659ms/step - loss: 0.0139 - accuracy: 0.9974 - val_loss: 6.4235 - val_accuracy: 0.7951\n",
            "Epoch 26/30\n",
            "25/25 [==============================] - 18s 651ms/step - loss: 0.0096 - accuracy: 0.9974 - val_loss: 11.0398 - val_accuracy: 0.7805\n",
            "Epoch 27/30\n",
            "25/25 [==============================] - 19s 661ms/step - loss: 0.0403 - accuracy: 0.9974 - val_loss: 8.3718 - val_accuracy: 0.8488\n",
            "Epoch 28/30\n",
            "25/25 [==============================] - 18s 651ms/step - loss: 0.0065 - accuracy: 0.9974 - val_loss: 10.8701 - val_accuracy: 0.8276\n",
            "Epoch 29/30\n",
            "25/25 [==============================] - 19s 654ms/step - loss: 0.0558 - accuracy: 0.9987 - val_loss: 11.1168 - val_accuracy: 0.8423\n",
            "Epoch 30/30\n",
            "25/25 [==============================] - ETA: 0s - loss: 0.1214 - accuracy: 0.9847"
          ]
        }
      ],
      "source": [
        "#Running the CNN model\n",
        "\n",
        "history = model.fit(\n",
        "    train_dataset,\n",
        "    epochs=30,\n",
        "    validation_data=validation_dataset)"
      ]
    },
    {
      "cell_type": "code",
      "source": [
        "results = model.evaluate(test_dataset)"
      ],
      "metadata": {
        "colab": {
          "base_uri": "https://localhost:8080/"
        },
        "id": "yMK3ly8EKNJs",
        "outputId": "3355b5a9-557c-48b5-b02f-2fc46b2b6a28"
      },
      "execution_count": null,
      "outputs": [
        {
          "output_type": "stream",
          "name": "stdout",
          "text": [
            "20/20 [==============================] - 54s 2s/step - loss: 65.8734 - accuracy: 0.7024\n"
          ]
        }
      ]
    },
    {
      "cell_type": "code",
      "source": [
        "#Plotting results\n",
        "\n",
        "import matplotlib.pyplot as plt\n",
        "\n",
        "accuracy = history.history[\"accuracy\"]\n",
        "val_accuracy = history.history[\"val_accuracy\"]\n",
        "loss = history.history[\"loss\"]\n",
        "val_loss = history.history[\"val_loss\"]\n",
        "epochs = range(1, len(accuracy) + 1)\n",
        "\n",
        "plt.plot(epochs, accuracy, \"bo\", label=\"Training accuracy\")\n",
        "plt.plot(epochs, val_accuracy, \"b\", label=\"Validation accuracy\")\n",
        "plt.title(\"Training and validation accuracy\")\n",
        "plt.legend()\n",
        "plt.figure()\n",
        "plt.plot(epochs, loss, \"bo\", label=\"Training loss\")\n",
        "plt.plot(epochs, val_loss, \"b\", label=\"Validation loss\")\n",
        "plt.title(\"Training and validation loss\")\n",
        "plt.legend()\n",
        "plt.show()"
      ],
      "metadata": {
        "colab": {
          "base_uri": "https://localhost:8080/",
          "height": 545
        },
        "id": "prMuPHtoOVoZ",
        "outputId": "9a6a9091-8291-4444-9bd8-514168c8fcfb"
      },
      "execution_count": null,
      "outputs": [
        {
          "output_type": "display_data",
          "data": {
            "text/plain": [
              "<Figure size 432x288 with 1 Axes>"
            ],
            "image/png": "[encoded data removed]"
          },
          "metadata": {
            "needs_background": "light"
          }
        },
        {
          "output_type": "display_data",
          "data": {
            "text/plain": [
              "<Figure size 432x288 with 1 Axes>"
            ],
            "image/png": "[encoded data removed]"
          },
          "metadata": {
            "needs_background": "light"
          }
        }
      ]
    },
    {
      "cell_type": "markdown",
      "metadata": {
        "id": "271P5sdGZTRu"
      },
      "source": [
        "## **Classification task** - SR applied images"
      ]
    },
    {
      "cell_type": "code",
      "source": [
        "#Path of the SR images in my Google Drive\n",
        "\n",
        "new_base_dir_SR = pathlib.Path(\"/content/drive/MyDrive/THESIS DOCS/subsampled_SR\")"
      ],
      "metadata": {
        "id": "HdfpubPkRrbO"
      },
      "execution_count": null,
      "outputs": []
    },
    {
      "cell_type": "code",
      "execution_count": null,
      "metadata": {
        "id": "eZTGjWn0XgUn"
      },
      "outputs": [],
      "source": [
        "#Keras Sequential Model to implement CNN model\n",
        "\n",
        "modelSR = keras.Sequential()\n",
        "\n",
        "# Convolutional layer and maxpool layer 1\n",
        "modelSR.add(keras.layers.Conv2D(32,(3,3),activation='relu',input_shape=(512,512,3)))\n",
        "modelSR.add(keras.layers.MaxPool2D(2,2))\n",
        "modelSR.add(BatchNormalization())\n",
        "\n",
        "# Convolutional layer and maxpool layer 2\n",
        "modelSR.add(keras.layers.Conv2D(64,(3,3),activation='relu'))\n",
        "modelSR.add(keras.layers.MaxPool2D(2,2))\n",
        "modelSR.add(BatchNormalization())\n",
        "\n",
        "# Convolutional layer and maxpool layer 3\n",
        "modelSR.add(keras.layers.Conv2D(128,(3,3),activation='relu'))\n",
        "modelSR.add(keras.layers.MaxPool2D(2,2))\n",
        "modelSR.add(BatchNormalization())\n",
        "\n",
        "# Convolutional layer and maxpool layer 4\n",
        "modelSR.add(keras.layers.Conv2D(128,(3,3),activation='relu'))\n",
        "modelSR.add(keras.layers.MaxPool2D(2,2))\n",
        "modelSR.add(BatchNormalization())\n",
        "\n",
        "# This layer flattens the resulting image array to 1D array\n",
        "modelSR.add(keras.layers.Flatten())\n",
        "\n",
        "# Hidden layer with 512 neurons and Rectified Linear Unit activation function \n",
        "modelSR.add(keras.layers.Dense(512,activation='relu'))\n",
        "\n",
        "# Output layer with single neuron which gives 0 for malignant or 1 for benign \n",
        "#Here we use sigmoid activation function which makes our model output to lie between 0 and 1\n",
        "modelSR.add(keras.layers.Dense(1,activation='sigmoid'))"
      ]
    },
    {
      "cell_type": "code",
      "execution_count": null,
      "metadata": {
        "colab": {
          "base_uri": "https://localhost:8080/"
        },
        "id": "mo1LVOwDXiw9",
        "outputId": "7925c6e3-17d2-4af9-8893-68b4376ea0c0"
      },
      "outputs": [
        {
          "output_type": "stream",
          "name": "stdout",
          "text": [
            "Model: \"sequential_1\"\n",
            "_________________________________________________________________\n",
            " Layer (type)                Output Shape              Param #   \n",
            "=================================================================\n",
            " conv2d_4 (Conv2D)           (None, 510, 510, 32)      896       \n",
            "                                                                 \n",
            " max_pooling2d_4 (MaxPooling  (None, 255, 255, 32)     0         \n",
            " 2D)                                                             \n",
            "                                                                 \n",
            " batch_normalization_4 (Batc  (None, 255, 255, 32)     128       \n",
            " hNormalization)                                                 \n",
            "                                                                 \n",
            " conv2d_5 (Conv2D)           (None, 253, 253, 64)      18496     \n",
            "                                                                 \n",
            " max_pooling2d_5 (MaxPooling  (None, 126, 126, 64)     0         \n",
            " 2D)                                                             \n",
            "                                                                 \n",
            " batch_normalization_5 (Batc  (None, 126, 126, 64)     256       \n",
            " hNormalization)                                                 \n",
            "                                                                 \n",
            " conv2d_6 (Conv2D)           (None, 124, 124, 128)     73856     \n",
            "                                                                 \n",
            " max_pooling2d_6 (MaxPooling  (None, 62, 62, 128)      0         \n",
            " 2D)                                                             \n",
            "                                                                 \n",
            " batch_normalization_6 (Batc  (None, 62, 62, 128)      512       \n",
            " hNormalization)                                                 \n",
            "                                                                 \n",
            " conv2d_7 (Conv2D)           (None, 60, 60, 128)       147584    \n",
            "                                                                 \n",
            " max_pooling2d_7 (MaxPooling  (None, 30, 30, 128)      0         \n",
            " 2D)                                                             \n",
            "                                                                 \n",
            " batch_normalization_7 (Batc  (None, 30, 30, 128)      512       \n",
            " hNormalization)                                                 \n",
            "                                                                 \n",
            " flatten_1 (Flatten)         (None, 115200)            0         \n",
            "                                                                 \n",
            " dense_2 (Dense)             (None, 512)               58982912  \n",
            "                                                                 \n",
            " dense_3 (Dense)             (None, 1)                 513       \n",
            "                                                                 \n",
            "=================================================================\n",
            "Total params: 59,225,665\n",
            "Trainable params: 59,224,961\n",
            "Non-trainable params: 704\n",
            "_________________________________________________________________\n"
          ]
        }
      ],
      "source": [
        "#Summary of the CNN model\n",
        "\n",
        "modelSR.summary()"
      ]
    },
    {
      "cell_type": "code",
      "execution_count": null,
      "metadata": {
        "id": "dV7IE2A_XkbM"
      },
      "outputs": [],
      "source": [
        " modelSR.compile(loss=\"binary_crossentropy\",\n",
        "              optimizer=\"adam\",\n",
        "              metrics=[\"accuracy\"])"
      ]
    },
    {
      "cell_type": "code",
      "source": [
        "from tensorflow.keras.preprocessing import image_dataset_from_directory\n",
        "\n",
        "train_dataset_SR = image_dataset_from_directory(\n",
        "    new_base_dir_SR / \"train\",\n",
        "    image_size=(512, 512),\n",
        "    batch_size=32)\n",
        "validation_dataset_SR = image_dataset_from_directory(\n",
        "    new_base_dir_SR / \"validation\",\n",
        "    image_size=(512, 512),\n",
        "    batch_size=32)\n",
        "test_dataset_SR = image_dataset_from_directory(\n",
        "    new_base_dir_SR / \"test\",\n",
        "    image_size=(512, 512),\n",
        "    batch_size=32)"
      ],
      "metadata": {
        "id": "pe3pJgyk_vUt",
        "colab": {
          "base_uri": "https://localhost:8080/"
        },
        "outputId": "8d2bae5c-e28d-4d54-b95d-47e857f036d7"
      },
      "execution_count": null,
      "outputs": [
        {
          "output_type": "stream",
          "name": "stdout",
          "text": [
            "Found 793 files belonging to 2 classes.\n",
            "Found 615 files belonging to 2 classes.\n",
            "Found 615 files belonging to 2 classes.\n"
          ]
        }
      ]
    },
    {
      "cell_type": "code",
      "execution_count": null,
      "metadata": {
        "colab": {
          "base_uri": "https://localhost:8080/"
        },
        "id": "vwl5BT9MXqe-",
        "outputId": "ae9b3942-aa05-4874-9a0f-aa303d3a1837"
      },
      "outputs": [
        {
          "output_type": "stream",
          "name": "stdout",
          "text": [
            "Epoch 1/30\n",
            "25/25 [==============================] - 169s 6s/step - loss: 15.7305 - accuracy: 0.7932 - val_loss: 5988.0752 - val_accuracy: 0.7154\n",
            "Epoch 2/30\n",
            "25/25 [==============================] - 17s 596ms/step - loss: 4.6705 - accuracy: 0.8373 - val_loss: 2962.6052 - val_accuracy: 0.7154\n",
            "Epoch 3/30\n",
            "25/25 [==============================] - 16s 585ms/step - loss: 0.7874 - accuracy: 0.9004 - val_loss: 4856.9316 - val_accuracy: 0.7154\n",
            "Epoch 4/30\n",
            "25/25 [==============================] - 16s 592ms/step - loss: 1.3551 - accuracy: 0.8916 - val_loss: 340.0916 - val_accuracy: 0.7350\n",
            "Epoch 5/30\n",
            "25/25 [==============================] - 17s 593ms/step - loss: 0.3992 - accuracy: 0.9168 - val_loss: 491.9940 - val_accuracy: 0.7220\n",
            "Epoch 6/30\n",
            "25/25 [==============================] - 16s 592ms/step - loss: 0.3657 - accuracy: 0.9344 - val_loss: 529.5827 - val_accuracy: 0.7285\n",
            "Epoch 7/30\n",
            "25/25 [==============================] - 16s 593ms/step - loss: 0.4788 - accuracy: 0.9142 - val_loss: 669.0690 - val_accuracy: 0.7740\n",
            "Epoch 8/30\n",
            "25/25 [==============================] - 16s 593ms/step - loss: 0.2694 - accuracy: 0.9117 - val_loss: 493.3191 - val_accuracy: 0.7480\n",
            "Epoch 9/30\n",
            "25/25 [==============================] - 17s 596ms/step - loss: 0.1309 - accuracy: 0.9546 - val_loss: 385.2230 - val_accuracy: 0.7593\n",
            "Epoch 10/30\n",
            "25/25 [==============================] - 17s 599ms/step - loss: 0.1430 - accuracy: 0.9395 - val_loss: 314.1020 - val_accuracy: 0.7691\n",
            "Epoch 11/30\n",
            "25/25 [==============================] - 17s 598ms/step - loss: 0.1247 - accuracy: 0.9496 - val_loss: 253.0602 - val_accuracy: 0.8146\n",
            "Epoch 12/30\n",
            "25/25 [==============================] - 16s 589ms/step - loss: 0.3094 - accuracy: 0.9786 - val_loss: 341.8748 - val_accuracy: 0.7561\n",
            "Epoch 13/30\n",
            "25/25 [==============================] - 16s 589ms/step - loss: 0.1276 - accuracy: 0.9660 - val_loss: 1283.4321 - val_accuracy: 0.7154\n",
            "Epoch 14/30\n",
            "25/25 [==============================] - 17s 602ms/step - loss: 0.0874 - accuracy: 0.9660 - val_loss: 1235.3329 - val_accuracy: 0.7268\n",
            "Epoch 15/30\n",
            "25/25 [==============================] - 17s 604ms/step - loss: 0.1886 - accuracy: 0.9849 - val_loss: 1474.2468 - val_accuracy: 0.7220\n",
            "Epoch 16/30\n",
            "25/25 [==============================] - 17s 599ms/step - loss: 1.0281 - accuracy: 0.9546 - val_loss: 155.6196 - val_accuracy: 0.8081\n",
            "Epoch 17/30\n",
            "25/25 [==============================] - 16s 588ms/step - loss: 3.2313 - accuracy: 0.8878 - val_loss: 1625.9167 - val_accuracy: 0.8065\n",
            "Epoch 18/30\n",
            "25/25 [==============================] - 17s 599ms/step - loss: 0.7670 - accuracy: 0.9054 - val_loss: 817.7710 - val_accuracy: 0.7252\n",
            "Epoch 19/30\n",
            "25/25 [==============================] - 16s 591ms/step - loss: 0.7449 - accuracy: 0.9168 - val_loss: 9748.6133 - val_accuracy: 0.7154\n",
            "Epoch 20/30\n",
            "25/25 [==============================] - 16s 593ms/step - loss: 0.4942 - accuracy: 0.9256 - val_loss: 310.3025 - val_accuracy: 0.5089\n",
            "Epoch 21/30\n",
            "25/25 [==============================] - 17s 605ms/step - loss: 1.9064 - accuracy: 0.9180 - val_loss: 1769.6858 - val_accuracy: 0.8358\n",
            "Epoch 22/30\n",
            "25/25 [==============================] - 17s 611ms/step - loss: 0.8581 - accuracy: 0.9332 - val_loss: 1176.7849 - val_accuracy: 0.7659\n",
            "Epoch 23/30\n",
            "25/25 [==============================] - 17s 596ms/step - loss: 0.2344 - accuracy: 0.9256 - val_loss: 232.7292 - val_accuracy: 0.6276\n",
            "Epoch 24/30\n",
            "25/25 [==============================] - 17s 593ms/step - loss: 0.2266 - accuracy: 0.9433 - val_loss: 231.0336 - val_accuracy: 0.8114\n",
            "Epoch 25/30\n",
            "25/25 [==============================] - 16s 587ms/step - loss: 0.0887 - accuracy: 0.9723 - val_loss: 750.4862 - val_accuracy: 0.7236\n",
            "Epoch 26/30\n",
            "25/25 [==============================] - 17s 598ms/step - loss: 0.1075 - accuracy: 0.9584 - val_loss: 403.2173 - val_accuracy: 0.8293\n",
            "Epoch 27/30\n",
            "25/25 [==============================] - 17s 601ms/step - loss: 0.1074 - accuracy: 0.9596 - val_loss: 318.5608 - val_accuracy: 0.8309\n",
            "Epoch 28/30\n",
            "25/25 [==============================] - 17s 608ms/step - loss: 0.0660 - accuracy: 0.9748 - val_loss: 283.7036 - val_accuracy: 0.8374\n",
            "Epoch 29/30\n",
            "25/25 [==============================] - 17s 605ms/step - loss: 0.0765 - accuracy: 0.9748 - val_loss: 256.4878 - val_accuracy: 0.8374\n",
            "Epoch 30/30\n",
            "25/25 [==============================] - 16s 593ms/step - loss: 0.0630 - accuracy: 0.9723 - val_loss: 240.9098 - val_accuracy: 0.8276\n"
          ]
        }
      ],
      "source": [
        "#Training the model\n",
        "\n",
        "history2 = modelSR.fit(\n",
        "    train_dataset_SR,\n",
        "    epochs=30,\n",
        "    validation_data=validation_dataset_SR)"
      ]
    },
    {
      "cell_type": "code",
      "source": [
        "#Results of training the model on the test set\n",
        "\n",
        "results2 = modelSR.evaluate(test_dataset_SR)"
      ],
      "metadata": {
        "colab": {
          "base_uri": "https://localhost:8080/"
        },
        "id": "7e_ffjb6JZxA",
        "outputId": "8ee05ea3-f465-437f-825e-ba67c237bf89"
      },
      "execution_count": null,
      "outputs": [
        {
          "output_type": "stream",
          "name": "stdout",
          "text": [
            "20/20 [==============================] - 83s 2s/step - loss: 277.5063 - accuracy: 0.8455\n"
          ]
        }
      ]
    },
    {
      "cell_type": "code",
      "source": [
        "#plotting the results of accuracy and loss\n",
        "\n",
        "import matplotlib.pyplot as plt\n",
        "\n",
        "accuracy = history2.history[\"accuracy\"]\n",
        "val_accuracy = history2.history[\"val_accuracy\"]\n",
        "loss = history2.history[\"loss\"]\n",
        "val_loss = history2.history[\"val_loss\"]\n",
        "epochs = range(1, len(accuracy) + 1)\n",
        "\n",
        "plt.plot(epochs, accuracy, \"bo\", label=\"Training accuracy\")\n",
        "plt.plot(epochs, val_accuracy, \"b\", label=\"Validation accuracy\")\n",
        "plt.title(\"Training and validation accuracy\")\n",
        "plt.legend()\n",
        "plt.figure()\n",
        "plt.plot(epochs, loss, \"bo\", label=\"Training loss\")\n",
        "plt.plot(epochs, val_loss, \"b\", label=\"Validation loss\")\n",
        "plt.title(\"Training and validation loss\")\n",
        "plt.legend()\n",
        "plt.show()"
      ],
      "metadata": {
        "colab": {
          "base_uri": "https://localhost:8080/",
          "height": 545
        },
        "id": "8FbFzHFEOZKO",
        "outputId": "7d01d5f0-cac3-46ab-fb0c-b57d9dd2c325"
      },
      "execution_count": null,
      "outputs": [
        {
          "output_type": "display_data",
          "data": {
            "text/plain": [
              "<Figure size 432x288 with 1 Axes>"
            ],
            "image/png": "[encoded data removed]"
          },
          "metadata": {
            "needs_background": "light"
          }
        },
        {
          "output_type": "display_data",
          "data": {
            "text/plain": [
              "<Figure size 432x288 with 1 Axes>"
            ],
            "image/png": "[encoded data removed]"
          },
          "metadata": {
            "needs_background": "light"
          }
        }
      ]
    },
    {
      "cell_type": "markdown",
      "source": [
        "## **Classification task** - Non-SR applied directly 512x512 images. \n",
        "\n",
        "Not by downsampling images to 128x128 then upsampling to 512x512, but directly changing the size to 512x512 from 700x460. \n",
        "\n"
      ],
      "metadata": {
        "id": "DcGIV0ha_QTr"
      }
    },
    {
      "cell_type": "code",
      "source": [
        "#Path where the original HR images exist in my Google Drive\n",
        "\n",
        "new_base_dir_or = pathlib.Path(\"/content/drive/MyDrive/THESIS DOCS/subsampled_originalres\")"
      ],
      "metadata": {
        "id": "E9WKWRJns2fJ"
      },
      "execution_count": null,
      "outputs": []
    },
    {
      "cell_type": "code",
      "source": [
        "#CNN model using Keras Sequential\n",
        "\n",
        "model2 = keras.Sequential()\n",
        "\n",
        "# Convolutional layer and maxpool layer 1\n",
        "model2.add(keras.layers.Conv2D(32,(3,3),activation='relu',input_shape=(512,512,3)))\n",
        "model2.add(keras.layers.MaxPool2D(2,2))\n",
        "model2.add(BatchNormalization())\n",
        "\n",
        "# Convolutional layer and maxpool layer 2\n",
        "model2.add(keras.layers.Conv2D(64,(3,3),activation='relu'))\n",
        "model2.add(keras.layers.MaxPool2D(2,2))\n",
        "model2.add(BatchNormalization())\n",
        "\n",
        "# Convolutional layer and maxpool layer 3\n",
        "model2.add(keras.layers.Conv2D(128,(3,3),activation='relu'))\n",
        "model2.add(keras.layers.MaxPool2D(2,2))\n",
        "model2.add(BatchNormalization())\n",
        "\n",
        "# Convolutional layer and maxpool layer 4\n",
        "model2.add(keras.layers.Conv2D(128,(3,3),activation='relu'))\n",
        "model2.add(keras.layers.MaxPool2D(2,2))\n",
        "model2.add(BatchNormalization())\n",
        "\n",
        "# This layer flattens the resulting image array to 1D array\n",
        "model2.add(keras.layers.Flatten())\n",
        "\n",
        "# Hidden layer with 512 neurons and Rectified Linear Unit activation function \n",
        "model2.add(keras.layers.Dense(512,activation='relu'))\n",
        "\n",
        "# Output layer with single neuron which gives 0 for malignant or 1 for benign \n",
        "#Here we use sigmoid activation function which makes our model output to lie between 0 and 1\n",
        "model2.add(keras.layers.Dense(1,activation='sigmoid'))"
      ],
      "metadata": {
        "id": "TqNa-Z70_vPH"
      },
      "execution_count": null,
      "outputs": []
    },
    {
      "cell_type": "code",
      "source": [
        " model2.compile(loss=\"binary_crossentropy\",\n",
        "              optimizer=\"adam\",\n",
        "              metrics=[\"accuracy\"])"
      ],
      "metadata": {
        "id": "fDcbPz1a_vST"
      },
      "execution_count": null,
      "outputs": []
    },
    {
      "cell_type": "code",
      "execution_count": null,
      "metadata": {
        "colab": {
          "base_uri": "https://localhost:8080/"
        },
        "id": "FAVrhUIqXmUl",
        "outputId": "acb3c07e-ea27-4250-ffeb-c88013675bdc"
      },
      "outputs": [
        {
          "output_type": "stream",
          "name": "stdout",
          "text": [
            "Found 783 files belonging to 2 classes.\n",
            "Found 615 files belonging to 2 classes.\n",
            "Found 615 files belonging to 2 classes.\n"
          ]
        }
      ],
      "source": [
        "from tensorflow.keras.preprocessing import image_dataset_from_directory\n",
        "\n",
        "train_dataset_or = image_dataset_from_directory(\n",
        "    new_base_dir_or / \"train\",\n",
        "    image_size=(512, 512),\n",
        "    batch_size=32)\n",
        "validation_dataset_or = image_dataset_from_directory(\n",
        "    new_base_dir_or / \"validation\",\n",
        "    image_size=(512, 512),\n",
        "    batch_size=32)\n",
        "test_dataset_or = image_dataset_from_directory(\n",
        "    new_base_dir_or / \"test\",\n",
        "    image_size=(512, 512),\n",
        "    batch_size=32)"
      ]
    },
    {
      "cell_type": "code",
      "source": [
        "#Training the model \n",
        "\n",
        "history3 = model2.fit(\n",
        "    train_dataset_or,\n",
        "    epochs=30,\n",
        "    validation_data=validation_dataset_or)"
      ],
      "metadata": {
        "colab": {
          "base_uri": "https://localhost:8080/"
        },
        "id": "RvFa6kJb_vW-",
        "outputId": "fc90a658-2e67-4ea4-d0ec-aa50d2d38916"
      },
      "execution_count": null,
      "outputs": [
        {
          "output_type": "stream",
          "name": "stdout",
          "text": [
            "Epoch 1/30\n",
            "25/25 [==============================] - 130s 4s/step - loss: 25.9817 - accuracy: 0.7650 - val_loss: 1660.6859 - val_accuracy: 0.2862\n",
            "Epoch 2/30\n",
            "25/25 [==============================] - 19s 682ms/step - loss: 4.1515 - accuracy: 0.8825 - val_loss: 1809.6189 - val_accuracy: 0.2911\n",
            "Epoch 3/30\n",
            "25/25 [==============================] - 19s 684ms/step - loss: 2.4733 - accuracy: 0.8493 - val_loss: 139.3852 - val_accuracy: 0.2862\n",
            "Epoch 4/30\n",
            "25/25 [==============================] - 19s 684ms/step - loss: 1.4750 - accuracy: 0.9221 - val_loss: 120.2693 - val_accuracy: 0.2911\n",
            "Epoch 5/30\n",
            "25/25 [==============================] - 20s 693ms/step - loss: 4.2273 - accuracy: 0.9132 - val_loss: 88.6558 - val_accuracy: 0.7366\n",
            "Epoch 6/30\n",
            "25/25 [==============================] - 19s 676ms/step - loss: 3.1933 - accuracy: 0.8927 - val_loss: 2.5340 - val_accuracy: 0.6146\n",
            "Epoch 7/30\n",
            "25/25 [==============================] - 19s 679ms/step - loss: 3.7801 - accuracy: 0.8736 - val_loss: 183.4399 - val_accuracy: 0.7203\n",
            "Epoch 8/30\n",
            "25/25 [==============================] - 20s 686ms/step - loss: 0.6798 - accuracy: 0.8927 - val_loss: 73.9396 - val_accuracy: 0.5772\n",
            "Epoch 9/30\n",
            "25/25 [==============================] - 19s 679ms/step - loss: 0.6037 - accuracy: 0.9374 - val_loss: 28.7460 - val_accuracy: 0.2911\n",
            "Epoch 10/30\n",
            "25/25 [==============================] - 19s 680ms/step - loss: 0.1913 - accuracy: 0.9668 - val_loss: 15.3364 - val_accuracy: 0.3024\n",
            "Epoch 11/30\n",
            "25/25 [==============================] - 20s 692ms/step - loss: 0.7745 - accuracy: 0.9604 - val_loss: 36.9335 - val_accuracy: 0.6553\n",
            "Epoch 12/30\n",
            "25/25 [==============================] - 19s 682ms/step - loss: 0.2387 - accuracy: 0.9476 - val_loss: 116.1845 - val_accuracy: 0.6813\n",
            "Epoch 13/30\n",
            "25/25 [==============================] - 20s 687ms/step - loss: 0.1651 - accuracy: 0.9515 - val_loss: 120.6845 - val_accuracy: 0.6813\n",
            "Epoch 14/30\n",
            "25/25 [==============================] - 19s 686ms/step - loss: 0.5671 - accuracy: 0.9655 - val_loss: 4.8357 - val_accuracy: 0.6764\n",
            "Epoch 15/30\n",
            "25/25 [==============================] - 19s 677ms/step - loss: 1.5515 - accuracy: 0.9234 - val_loss: 15.7737 - val_accuracy: 0.4715\n",
            "Epoch 16/30\n",
            "25/25 [==============================] - 19s 671ms/step - loss: 1.7159 - accuracy: 0.9451 - val_loss: 40.7648 - val_accuracy: 0.3366\n",
            "Epoch 17/30\n",
            "25/25 [==============================] - 19s 683ms/step - loss: 0.2824 - accuracy: 0.9285 - val_loss: 16.4794 - val_accuracy: 0.3398\n",
            "Epoch 18/30\n",
            "25/25 [==============================] - 19s 677ms/step - loss: 0.1778 - accuracy: 0.9502 - val_loss: 10.4568 - val_accuracy: 0.5301\n",
            "Epoch 19/30\n",
            "25/25 [==============================] - 19s 681ms/step - loss: 0.1011 - accuracy: 0.9681 - val_loss: 5.7318 - val_accuracy: 0.6488\n",
            "Epoch 20/30\n",
            "25/25 [==============================] - 19s 685ms/step - loss: 0.0660 - accuracy: 0.9783 - val_loss: 4.6870 - val_accuracy: 0.6846\n",
            "Epoch 21/30\n",
            "25/25 [==============================] - 19s 678ms/step - loss: 0.1656 - accuracy: 0.9783 - val_loss: 3.3405 - val_accuracy: 0.7707\n",
            "Epoch 22/30\n",
            "25/25 [==============================] - 19s 673ms/step - loss: 0.0543 - accuracy: 0.9872 - val_loss: 3.4127 - val_accuracy: 0.7089\n",
            "Epoch 23/30\n",
            "25/25 [==============================] - 19s 684ms/step - loss: 0.0178 - accuracy: 0.9949 - val_loss: 3.2366 - val_accuracy: 0.7301\n",
            "Epoch 24/30\n",
            "25/25 [==============================] - 19s 688ms/step - loss: 0.0483 - accuracy: 0.9885 - val_loss: 3.6349 - val_accuracy: 0.6667\n",
            "Epoch 25/30\n",
            "25/25 [==============================] - 21s 737ms/step - loss: 0.0183 - accuracy: 0.9936 - val_loss: 2.8127 - val_accuracy: 0.7789\n",
            "Epoch 26/30\n",
            "25/25 [==============================] - 19s 682ms/step - loss: 0.0098 - accuracy: 0.9974 - val_loss: 2.4888 - val_accuracy: 0.7724\n",
            "Epoch 27/30\n",
            "25/25 [==============================] - 19s 683ms/step - loss: 0.0768 - accuracy: 0.9847 - val_loss: 1.7976 - val_accuracy: 0.7447\n",
            "Epoch 28/30\n",
            "25/25 [==============================] - 19s 682ms/step - loss: 0.0509 - accuracy: 0.9847 - val_loss: 1.6864 - val_accuracy: 0.7171\n",
            "Epoch 29/30\n",
            "25/25 [==============================] - 19s 675ms/step - loss: 0.0307 - accuracy: 0.9911 - val_loss: 1.6351 - val_accuracy: 0.7967\n",
            "Epoch 30/30\n",
            "25/25 [==============================] - 19s 671ms/step - loss: 0.1029 - accuracy: 0.9872 - val_loss: 2.5231 - val_accuracy: 0.8081\n"
          ]
        }
      ]
    },
    {
      "cell_type": "code",
      "source": [
        "#Training the model on the test set\n",
        "\n",
        "results3 = model2.evaluate(test_dataset_or)"
      ],
      "metadata": {
        "colab": {
          "base_uri": "https://localhost:8080/"
        },
        "id": "SJ3ASbYT_vbu",
        "outputId": "3aa4f159-bc11-4d66-c483-cac0a989ad59"
      },
      "execution_count": null,
      "outputs": [
        {
          "output_type": "stream",
          "name": "stdout",
          "text": [
            "20/20 [==============================] - 57s 2s/step - loss: 0.9386 - accuracy: 0.8520\n"
          ]
        }
      ]
    }
  ],
  "metadata": {
    "colab": {
      "collapsed_sections": [],
      "name": "THESIS CNN FINAL ",
      "provenance": [],
      "include_colab_link": true
    },
    "kernelspec": {
      "display_name": "Python 3",
      "name": "python3"
    },
    "language_info": {
      "name": "python"
    },
    "accelerator": "GPU"
  },
  "nbformat": 4,
  "nbformat_minor": 0
}
